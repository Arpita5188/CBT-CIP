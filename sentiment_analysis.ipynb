{
  "nbformat": 4,
  "nbformat_minor": 0,
  "metadata": {
    "colab": {
      "provenance": [],
      "authorship_tag": "ABX9TyP+5RvJQweG09/Lce4ajDiD",
      "include_colab_link": true
    },
    "kernelspec": {
      "name": "python3",
      "display_name": "Python 3"
    },
    "language_info": {
      "name": "python"
    }
  },
  "cells": [
    {
      "cell_type": "markdown",
      "metadata": {
        "id": "view-in-github",
        "colab_type": "text"
      },
      "source": [
        "<a href=\"https://colab.research.google.com/github/Arpita5188/CBT-CIP/blob/main/sentiment_analysis.ipynb\" target=\"_parent\"><img src=\"https://colab.research.google.com/assets/colab-badge.svg\" alt=\"Open In Colab\"/></a>"
      ]
    },
    {
      "cell_type": "code",
      "execution_count": null,
      "metadata": {
        "colab": {
          "base_uri": "https://localhost:8080/"
        },
        "id": "geWaZhgJIjtn",
        "outputId": "c211a774-7b0b-48fc-af23-9593c8d63fa1"
      },
      "outputs": [
        {
          "output_type": "stream",
          "name": "stderr",
          "text": [
            "[nltk_data] Downloading package stopwords to /root/nltk_data...\n",
            "[nltk_data]   Package stopwords is already up-to-date!\n"
          ]
        },
        {
          "output_type": "stream",
          "name": "stdout",
          "text": [
            "   Id   ProductId          UserId    ProfileName  HelpfulnessNumerator  \\\n",
            "0   1  B001E4KFG0  A3SGXH7AUHU8GW     delmartian                     1   \n",
            "1   2  B00813GRG4  A1D87F6ZCVE5NK         dll pa                     0   \n",
            "2   4  B000UA0QIQ  A395BORC6FGVXV           Karl                     3   \n",
            "3   9  B000E7L2R4  A1MZYO9TZK0BBI       R. James                     1   \n",
            "4  10  B00171APVA  A21BT40VZCCYT4  Carol A. Reed                     0   \n",
            "\n",
            "   HelpfulnessDenominator  Score        Time                Summary  \\\n",
            "0                       1      5  1303862400  Good Quality Dog Food   \n",
            "1                       0      1  1346976000      Not as Advertised   \n",
            "2                       3      2  1307923200         Cough Medicine   \n",
            "3                       1      5  1322006400             Yay Barley   \n",
            "4                       0      5  1351209600       Healthy Dog Food   \n",
            "\n",
            "                                                Text  \n",
            "0  I have bought several of the Vitality canned d...  \n",
            "1  \"Product arrived labeled as Jumbo Salted Peanu...  \n",
            "2  If you are looking for the secret ingredient i...  \n",
            "3  Right now I'm mostly just sprouting this so my...  \n",
            "4  This is a very healthy dog food. Good for thei...  \n",
            "<class 'pandas.core.frame.DataFrame'>\n",
            "RangeIndex: 43163 entries, 0 to 43162\n",
            "Data columns (total 10 columns):\n",
            " #   Column                  Non-Null Count  Dtype \n",
            "---  ------                  --------------  ----- \n",
            " 0   Id                      43163 non-null  int64 \n",
            " 1   ProductId               43163 non-null  object\n",
            " 2   UserId                  43163 non-null  object\n",
            " 3   ProfileName             43157 non-null  object\n",
            " 4   HelpfulnessNumerator    43163 non-null  int64 \n",
            " 5   HelpfulnessDenominator  43163 non-null  int64 \n",
            " 6   Score                   43163 non-null  int64 \n",
            " 7   Time                    43163 non-null  int64 \n",
            " 8   Summary                 43163 non-null  object\n",
            " 9   Text                    43163 non-null  object\n",
            "dtypes: int64(5), object(5)\n",
            "memory usage: 3.3+ MB\n",
            "None\n",
            "Accuracy: 0.8962122089655972\n",
            "Classification Report:\n",
            "               precision    recall  f1-score   support\n",
            "\n",
            "    Negative       0.80      0.63      0.70      1117\n",
            "     Neutral       0.64      0.11      0.18       412\n",
            "    Positive       0.91      0.98      0.95      7104\n",
            "\n",
            "    accuracy                           0.90      8633\n",
            "   macro avg       0.78      0.57      0.61      8633\n",
            "weighted avg       0.88      0.90      0.88      8633\n",
            "\n",
            "Confusion Matrix:\n",
            " [[ 704    9  404]\n",
            " [  82   44  286]\n",
            " [  99   16 6989]]\n",
            "Review: This product is amazing! It works like a charm.\n",
            "Predicted Sentiment: Positive\n"
          ]
        }
      ],
      "source": [
        "import pandas as pd\n",
        "import numpy as np\n",
        "from sklearn.model_selection import train_test_split\n",
        "from sklearn.feature_extraction.text import TfidfVectorizer\n",
        "from sklearn.linear_model import LogisticRegression\n",
        "from sklearn.metrics import accuracy_score, classification_report, confusion_matrix\n",
        "import re\n",
        "from nltk.corpus import stopwords\n",
        "import nltk\n",
        "\n",
        "nltk.download('stopwords')\n",
        "data = pd.read_csv('/content/Reviews.csv', names=['Id', 'ProductId', 'UserId', 'ProfileName', 'HelpfulnessNumerator', 'HelpfulnessDenominator', 'Score', 'Time', 'Summary', 'Text'], skiprows=1, on_bad_lines='skip', quoting=3) # quoting=3 to use QUOTE_NONE\n",
        "\n",
        "# Display dataset structure\n",
        "print(data.head())\n",
        "print(data.info())\n",
        "\n",
        "# Assuming the dataset has 'ReviewText' and 'Rating' columns\n",
        "reviews = data['Text']\n",
        "ratings = data['Score']\n",
        "\n",
        "# Data Preprocessing\n",
        "def preprocess_text(text):\n",
        "    # Lowercasing\n",
        "    text = text.lower()\n",
        "    # Removing special characters and numbers\n",
        "    text = re.sub(r'[^a-z\\s]', '', text)\n",
        "    # Removing stopwords\n",
        "    stop_words = set(stopwords.words('english'))\n",
        "    text = \" \".join(word for word in text.split() if word not in stop_words)\n",
        "    return text\n",
        "\n",
        "data['CleanedText'] = reviews.apply(preprocess_text)\n",
        "\n",
        "# Sentiment Labeling\n",
        "# Assuming ratings 1-2 = Negative, 3 = Neutral, 4-5 = Positive\n",
        "def label_sentiment(rating):\n",
        "    if rating <= 2:\n",
        "        return 'Negative'\n",
        "    elif rating == 3:\n",
        "        return 'Neutral'\n",
        "    else:\n",
        "        return 'Positive'\n",
        "\n",
        "data['Sentiment'] = ratings.apply(label_sentiment)\n",
        "\n",
        "# Splitting the Data\n",
        "X = data['CleanedText']\n",
        "y = data['Sentiment']\n",
        "\n",
        "# Converting text to numerical features using TF-IDF\n",
        "vectorizer = TfidfVectorizer(max_features=5000)\n",
        "X_tfidf = vectorizer.fit_transform(X)\n",
        "\n",
        "# Splitting into training and testing sets\n",
        "X_train, X_test, y_train, y_test = train_test_split(X_tfidf, y, test_size=0.2, random_state=42)\n",
        "\n",
        "# Model Training\n",
        "model = LogisticRegression()\n",
        "model.fit(X_train, y_train)\n",
        "\n",
        "# Model Evaluation\n",
        "y_pred = model.predict(X_test)\n",
        "print(\"Accuracy:\", accuracy_score(y_test, y_pred))\n",
        "print(\"Classification Report:\\n\", classification_report(y_test, y_pred))\n",
        "print(\"Confusion Matrix:\\n\", confusion_matrix(y_test, y_pred))\n",
        "\n",
        "# Predicting sentiment of new reviews\n",
        "def predict_sentiment(review):\n",
        "    review_cleaned = preprocess_text(review)\n",
        "    review_tfidf = vectorizer.transform([review_cleaned])\n",
        "    return model.predict(review_tfidf)[0]\n",
        "\n",
        "# Test the prediction\n",
        "new_review = \"This product is amazing! It works like a charm.\"\n",
        "predicted_sentiment = predict_sentiment(new_review)\n",
        "print(f\"Review: {new_review}\")\n",
        "print(f\"Predicted Sentiment: {predicted_sentiment}\")\n"
      ]
    },
    {
      "cell_type": "code",
      "source": [],
      "metadata": {
        "id": "2EVgFEMhN5Ma"
      },
      "execution_count": null,
      "outputs": []
    }
  ]
}